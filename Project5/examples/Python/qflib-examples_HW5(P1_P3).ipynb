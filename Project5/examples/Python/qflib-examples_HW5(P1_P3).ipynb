{
 "cells": [
  {
   "cell_type": "markdown",
   "id": "431f3433-79b3-4468-99a7-a8e1c771b141",
   "metadata": {
    "tags": []
   },
   "source": [
    "## qflib Library Examples and HW 4 Solution"
   ]
  },
  {
   "cell_type": "code",
   "execution_count": 1,
   "id": "18bfdc25-3d7d-4508-bf2f-c798f544e650",
   "metadata": {},
   "outputs": [
    {
     "name": "stdout",
     "output_type": "stream",
     "text": [
      "qflib version: 0.5.0-debug\n",
      "pid: 10072\n"
     ]
    }
   ],
   "source": [
    "import qflib as qf\n",
    "import numpy as np\n",
    "import os\n",
    "import matplotlib.pyplot as plt\n",
    "print(\"qflib version: {0}\".format(qf.version()))\n",
    "print(\"pid: {0}\".format(os.getpid()))"
   ]
  },
  {
   "cell_type": "code",
   "execution_count": 2,
   "id": "89159a01-6357-4134-86db-72162a5a286b",
   "metadata": {},
   "outputs": [
    {
     "name": "stdout",
     "output_type": "stream",
     "text": [
      "Hello World!\n"
     ]
    }
   ],
   "source": [
    "name = \"World\"\n",
    "print(qf.sayHello(name))"
   ]
  },
  {
   "cell_type": "code",
   "execution_count": 3,
   "id": "a09cb38f-fb87-4248-b93b-243dac898e01",
   "metadata": {},
   "outputs": [
    {
     "name": "stdout",
     "output_type": "stream",
     "text": [
      "x: [1, 2, 3]\n",
      "y: [4, 5]\n",
      "outerProd:\n",
      "[[ 4.  5.]\n",
      " [ 8. 10.]\n",
      " [12. 15.]]\n"
     ]
    }
   ],
   "source": [
    "x = [1, 2, 3]\n",
    "y = [4, 5]\n",
    "op = qf.outerProd(x, y)\n",
    "print(f'x: {x}\\ny: {y}')\n",
    "print(f'outerProd:\\n{op}')"
   ]
  },
  {
   "cell_type": "code",
   "execution_count": 4,
   "id": "db352eac",
   "metadata": {},
   "outputs": [
    {
     "name": "stdout",
     "output_type": "stream",
     "text": [
      "orig matrix:\n",
      "[[1 2 3]\n",
      " [4 5 6]]\n",
      "echo matrix:\n",
      "[[1. 2. 3.]\n",
      " [4. 5. 6.]]\n"
     ]
    }
   ],
   "source": [
    "m = np.array([[1, 2, 3], [4, 5, 6]])\n",
    "em = qf.echoMatrix(m)\n",
    "print(f'orig matrix:\\n{m}')\n",
    "print(f'echo matrix:\\n{em}')"
   ]
  },
  {
   "cell_type": "markdown",
   "id": "17b8d7be-26a6-4b09-bf80-b3e36875202c",
   "metadata": {},
   "source": [
    "### Analytic Prices"
   ]
  },
  {
   "cell_type": "code",
   "execution_count": 5,
   "id": "82c85ec6-31c0-4c08-8bf0-c777687672e7",
   "metadata": {},
   "outputs": [
    {
     "name": "stdout",
     "output_type": "stream",
     "text": [
      "Forward price analytic solution\n",
      "Price=98.0199\n"
     ]
    }
   ],
   "source": [
    "#fwdprice\n",
    "fwdpx = qf.fwdPrice(spot = 100, timetoexp = 1.0, intrate = 0.02, divyield = 0.04)\n",
    "print('Forward price analytic solution')\n",
    "print(f'Price={fwdpx:.4f}')"
   ]
  },
  {
   "cell_type": "code",
   "execution_count": 6,
   "id": "01ab6e19-c6cf-4b00-8098-72b6048fafee",
   "metadata": {},
   "outputs": [
    {
     "name": "stdout",
     "output_type": "stream",
     "text": [
      "Digital option using Black-Scholes analytic solution\n",
      "Price=0.4124090746144899\n"
     ]
    }
   ],
   "source": [
    "#digibs\n",
    "digi = qf.digiBS(payofftype = 1, spot = 100, timetoexp = 1.0, strike = 100,\n",
    "                  intrate = 0.02, divyield = 0.04, volatility = 0.2)\n",
    "print('Digital option using Black-Scholes analytic solution')\n",
    "print(f'Price={digi:}')"
   ]
  },
  {
   "cell_type": "code",
   "execution_count": 7,
   "id": "a65d8d0e-56a3-4943-b418-a3e9864c14b7",
   "metadata": {},
   "outputs": [
    {
     "name": "stdout",
     "output_type": "stream",
     "text": [
      "European option using Black-Scholes analytic solution\n",
      "Price=14.432724162013134\n"
     ]
    }
   ],
   "source": [
    "euro = qf.euroBS(payofftype = 1, spot = 100, timetoexp = 1.0, strike = 100,\n",
    "                  intrate = 0.02, divyield = 0.04, volatility = 0.4)\n",
    "print('European option using Black-Scholes analytic solution')\n",
    "print(f'Price={euro:}')"
   ]
  },
  {
   "cell_type": "markdown",
   "id": "c40d80ae-d7e8-4e76-8103-d98badcbcb5f",
   "metadata": {},
   "source": [
    "## Homework 5 problem 1"
   ]
  },
  {
   "cell_type": "code",
   "execution_count": null,
   "id": "485f529b-c443-493f-8656-491f6fef6e63",
   "metadata": {},
   "outputs": [],
   "source": [
    "#checking my function with the first row of the data provided\n",
    "greeks = qf.euroBS(1, 100.0, 100.0, 2.0, 0.04, 0.02, 0.30)\n",
    "print(\"BS Price at t=0 is\", greeks[0], \" Delta=\", greeks[1])"
   ]
  },
  {
   "cell_type": "code",
   "execution_count": 16,
   "id": "68baabe4-a376-4679-ad8e-4a2a859f1352",
   "metadata": {},
   "outputs": [],
   "source": [
    "import pandas as pd\n",
    "\n",
    "# Parameters\n",
    "N = 10000   # Number of option units (short position)\n",
    "K = 100     # Strike\n",
    "T = 2.0     # Time to expiration (years)\n",
    "r = 0.04    # Risk-free rate\n",
    "q = 0.02   # Dividend yield\n",
    "sigma = 0.30  # Volatility\n",
    "payoff = 1  # 1 for call\n",
    "\n",
    "# Quarterly times and given spot path\n",
    "times = np.array([0.00, 0.25, 0.50, 0.75, 1.00, 1.25, 1.50, 1.75, 2.00])\n",
    "spot_prices = np.array([100.00, 105.00, 110.00, 92.00, 103.00, 90.00, 110.00, 95.00, 88.00])\n",
    "\n",
    "# Create a DataFrame with placeholders\n",
    "df = pd.DataFrame({\n",
    "    'Time': times,\n",
    "    'Spot': spot_prices,\n",
    "    'Option_Price': np.nan,\n",
    "    'Delta': np.nan,\n",
    "    'Growth': np.nan,\n",
    "    'Opt_Units': -N,   # We are short the options at all times\n",
    "    'Stk_Units': np.nan,\n",
    "    'Opt_Val': np.nan,\n",
    "    'Stk_Val': np.nan,\n",
    "    'Cash_Acc': np.nan,\n",
    "    'Tot_Val': np.nan\n",
    "})"
   ]
  },
  {
   "cell_type": "code",
   "execution_count": 19,
   "id": "894b4b5b-2cb1-4c66-bda0-b4edb2890ee0",
   "metadata": {},
   "outputs": [],
   "source": [
    "# looping over each quarterly rebalancing date\n",
    "for i in range(len(times)):\n",
    "    # Time to maturity from this date\n",
    "    tenor = T - times[i]\n",
    "    \n",
    "    # -- 1) Compute Black–Scholes price/delta (or intrinsic at expiration) --\n",
    "    if tenor > 0:\n",
    "        \n",
    "        greeks = qf.euroBS(payoff, spot_prices[i], K, tenor, r, q, sigma)\n",
    "        option_price = greeks[0]\n",
    "        delta = greeks[1]\n",
    "    else:\n",
    "        # At final maturity (tenor <= 0), option payoff is intrinsic\n",
    "        option_price = max(0, spot_prices[i] - K)\n",
    "        delta = 1.0 if (spot_prices[i] > K) else 0.0\n",
    "        \n",
    "    \n",
    "    df.loc[i, 'Option_Price'] = option_price\n",
    "    df.loc[i, 'Delta'] = delta\n",
    "    \n",
    "    #Growth Factor\n",
    "    if i == 0:\n",
    "        df.loc[i, 'Growth'] = 1.0  # No previous period at t=0\n",
    "    else:\n",
    "        dt = times[i] - times[i - 1]\n",
    "        df.loc[i, 'Growth'] = np.exp(r * dt)\n",
    "    \n",
    "    #Hedge ratio and Cash --\n",
    "    if i == 0:\n",
    "        \n",
    "        # Hedge = -N * Delta shares\n",
    "        stk_units_i = -df.loc[i, 'Opt_Units'] * df.loc[i, 'Delta']\n",
    "        df.loc[i, 'Stk_Units'] = stk_units_i\n",
    "        \n",
    "        # Values\n",
    "        opt_val_i = df.loc[i, 'Opt_Units'] * df.loc[i, 'Option_Price']\n",
    "        stk_val_i = stk_units_i * df.loc[i, 'Spot']\n",
    "        \n",
    "        df.loc[i, 'Opt_Val'] = opt_val_i\n",
    "        df.loc[i, 'Stk_Val'] = stk_val_i\n",
    "        \n",
    "        # Cash: we receive option premium (=-Opt_Val), pay for stock (-Stk_Val)\n",
    "        df.loc[i, 'Cash_Acc'] = -(opt_val_i + stk_val_i)\n",
    "        \n",
    "    else:\n",
    "        #For t>0, re-hedge and update cash\n",
    "        \n",
    "        # 1) Grow previous cash at risk-free rate\n",
    "        previous_cash = df.loc[i-1, 'Cash_Acc']\n",
    "        df.loc[i, 'Cash_Acc'] = previous_cash * df.loc[i, 'Growth']\n",
    "        \n",
    "        # 2) Rebalance the shares from old delta to new delta\n",
    "        new_stk_units = -df.loc[i, 'Opt_Units'] * df.loc[i, 'Delta']\n",
    "        old_stk_units = df.loc[i-1, 'Stk_Units']\n",
    "        df.loc[i, 'Stk_Units'] = new_stk_units\n",
    "        \n",
    "        # 3) Cost from adjusting the hedge\n",
    "        cost_of_rebalance = (new_stk_units - old_stk_units) * df.loc[i, 'Spot']\n",
    "        \n",
    "        # 4) Subtract that cost from the cash account\n",
    "        df.loc[i, 'Cash_Acc'] -= cost_of_rebalance\n",
    "        \n",
    "        # 5) Update the value of the option and stock\n",
    "        df.loc[i, 'Opt_Val'] = df.loc[i, 'Opt_Units'] * df.loc[i, 'Option_Price']\n",
    "        df.loc[i, 'Stk_Val'] = new_stk_units * df.loc[i, 'Spot']\n",
    "    \n",
    "    # Compute total value\n",
    "    df.loc[i, 'Tot_Val'] = df.loc[i, 'Opt_Val'] + df.loc[i, 'Stk_Val'] + df.loc[i, 'Cash_Acc']\n",
    "\n",
    "# Final P&L \n",
    "final_pnl = df.loc[len(df) - 1, 'Tot_Val']"
   ]
  },
  {
   "cell_type": "code",
   "execution_count": 18,
   "id": "20766c81-3139-4e3c-b7d2-7cf34002aead",
   "metadata": {},
   "outputs": [
    {
     "data": {
      "text/html": [
       "<div>\n",
       "<style scoped>\n",
       "    .dataframe tbody tr th:only-of-type {\n",
       "        vertical-align: middle;\n",
       "    }\n",
       "\n",
       "    .dataframe tbody tr th {\n",
       "        vertical-align: top;\n",
       "    }\n",
       "\n",
       "    .dataframe thead th {\n",
       "        text-align: right;\n",
       "    }\n",
       "</style>\n",
       "<table border=\"1\" class=\"dataframe\">\n",
       "  <thead>\n",
       "    <tr style=\"text-align: right;\">\n",
       "      <th></th>\n",
       "      <th>Time</th>\n",
       "      <th>Spot</th>\n",
       "      <th>Option_Price</th>\n",
       "      <th>Delta</th>\n",
       "      <th>Growth</th>\n",
       "      <th>Opt_Units</th>\n",
       "      <th>Stk_Units</th>\n",
       "      <th>Opt_Val</th>\n",
       "      <th>Stk_Val</th>\n",
       "      <th>Cash_Acc</th>\n",
       "      <th>Tot_Val</th>\n",
       "    </tr>\n",
       "  </thead>\n",
       "  <tbody>\n",
       "    <tr>\n",
       "      <th>0</th>\n",
       "      <td>0.00</td>\n",
       "      <td>100.0</td>\n",
       "      <td>17.777303</td>\n",
       "      <td>0.596030</td>\n",
       "      <td>1.00000</td>\n",
       "      <td>-10000</td>\n",
       "      <td>5960.304084</td>\n",
       "      <td>-177773.031045</td>\n",
       "      <td>596030.408427</td>\n",
       "      <td>-418257.377382</td>\n",
       "      <td>0.000000</td>\n",
       "    </tr>\n",
       "    <tr>\n",
       "      <th>1</th>\n",
       "      <td>0.25</td>\n",
       "      <td>105.0</td>\n",
       "      <td>19.716559</td>\n",
       "      <td>0.636273</td>\n",
       "      <td>1.01005</td>\n",
       "      <td>-10000</td>\n",
       "      <td>6362.727734</td>\n",
       "      <td>-197165.585981</td>\n",
       "      <td>668086.412094</td>\n",
       "      <td>-464715.417155</td>\n",
       "      <td>6205.408958</td>\n",
       "    </tr>\n",
       "    <tr>\n",
       "      <th>2</th>\n",
       "      <td>0.50</td>\n",
       "      <td>110.0</td>\n",
       "      <td>21.762433</td>\n",
       "      <td>0.679434</td>\n",
       "      <td>1.01005</td>\n",
       "      <td>-10000</td>\n",
       "      <td>6794.341178</td>\n",
       "      <td>-217624.330729</td>\n",
       "      <td>747377.529594</td>\n",
       "      <td>-516863.363573</td>\n",
       "      <td>12889.835293</td>\n",
       "    </tr>\n",
       "    <tr>\n",
       "      <th>3</th>\n",
       "      <td>0.75</td>\n",
       "      <td>92.0</td>\n",
       "      <td>9.796680</td>\n",
       "      <td>0.485182</td>\n",
       "      <td>1.01005</td>\n",
       "      <td>-10000</td>\n",
       "      <td>4851.822012</td>\n",
       "      <td>-97966.802243</td>\n",
       "      <td>446367.625126</td>\n",
       "      <td>-343346.163474</td>\n",
       "      <td>5054.659408</td>\n",
       "    </tr>\n",
       "    <tr>\n",
       "      <th>4</th>\n",
       "      <td>1.00</td>\n",
       "      <td>103.0</td>\n",
       "      <td>14.346481</td>\n",
       "      <td>0.611344</td>\n",
       "      <td>1.01005</td>\n",
       "      <td>-10000</td>\n",
       "      <td>6113.436213</td>\n",
       "      <td>-143464.811956</td>\n",
       "      <td>629683.929890</td>\n",
       "      <td>-476743.112415</td>\n",
       "      <td>9476.005520</td>\n",
       "    </tr>\n",
       "    <tr>\n",
       "      <th>5</th>\n",
       "      <td>1.25</td>\n",
       "      <td>90.0</td>\n",
       "      <td>5.975691</td>\n",
       "      <td>0.407596</td>\n",
       "      <td>1.01005</td>\n",
       "      <td>-10000</td>\n",
       "      <td>4075.958380</td>\n",
       "      <td>-59756.909012</td>\n",
       "      <td>366836.254239</td>\n",
       "      <td>-298161.455463</td>\n",
       "      <td>8917.889765</td>\n",
       "    </tr>\n",
       "    <tr>\n",
       "      <th>6</th>\n",
       "      <td>1.50</td>\n",
       "      <td>110.0</td>\n",
       "      <td>15.232479</td>\n",
       "      <td>0.719351</td>\n",
       "      <td>1.01005</td>\n",
       "      <td>-10000</td>\n",
       "      <td>7193.507103</td>\n",
       "      <td>-152324.789430</td>\n",
       "      <td>791285.781342</td>\n",
       "      <td>-644088.387402</td>\n",
       "      <td>-5127.395490</td>\n",
       "    </tr>\n",
       "    <tr>\n",
       "      <th>7</th>\n",
       "      <td>1.75</td>\n",
       "      <td>95.0</td>\n",
       "      <td>3.818531</td>\n",
       "      <td>0.405606</td>\n",
       "      <td>1.01005</td>\n",
       "      <td>-10000</td>\n",
       "      <td>4056.061287</td>\n",
       "      <td>-38185.312688</td>\n",
       "      <td>385325.822303</td>\n",
       "      <td>-352504.230820</td>\n",
       "      <td>-5363.721205</td>\n",
       "    </tr>\n",
       "    <tr>\n",
       "      <th>8</th>\n",
       "      <td>2.00</td>\n",
       "      <td>88.0</td>\n",
       "      <td>0.000000</td>\n",
       "      <td>0.000000</td>\n",
       "      <td>1.01005</td>\n",
       "      <td>-10000</td>\n",
       "      <td>0.000000</td>\n",
       "      <td>-0.000000</td>\n",
       "      <td>0.000000</td>\n",
       "      <td>886.436053</td>\n",
       "      <td>886.436053</td>\n",
       "    </tr>\n",
       "  </tbody>\n",
       "</table>\n",
       "</div>"
      ],
      "text/plain": [
       "   Time   Spot  Option_Price     Delta   Growth  Opt_Units    Stk_Units  \\\n",
       "0  0.00  100.0     17.777303  0.596030  1.00000     -10000  5960.304084   \n",
       "1  0.25  105.0     19.716559  0.636273  1.01005     -10000  6362.727734   \n",
       "2  0.50  110.0     21.762433  0.679434  1.01005     -10000  6794.341178   \n",
       "3  0.75   92.0      9.796680  0.485182  1.01005     -10000  4851.822012   \n",
       "4  1.00  103.0     14.346481  0.611344  1.01005     -10000  6113.436213   \n",
       "5  1.25   90.0      5.975691  0.407596  1.01005     -10000  4075.958380   \n",
       "6  1.50  110.0     15.232479  0.719351  1.01005     -10000  7193.507103   \n",
       "7  1.75   95.0      3.818531  0.405606  1.01005     -10000  4056.061287   \n",
       "8  2.00   88.0      0.000000  0.000000  1.01005     -10000     0.000000   \n",
       "\n",
       "         Opt_Val        Stk_Val       Cash_Acc       Tot_Val  \n",
       "0 -177773.031045  596030.408427 -418257.377382      0.000000  \n",
       "1 -197165.585981  668086.412094 -464715.417155   6205.408958  \n",
       "2 -217624.330729  747377.529594 -516863.363573  12889.835293  \n",
       "3  -97966.802243  446367.625126 -343346.163474   5054.659408  \n",
       "4 -143464.811956  629683.929890 -476743.112415   9476.005520  \n",
       "5  -59756.909012  366836.254239 -298161.455463   8917.889765  \n",
       "6 -152324.789430  791285.781342 -644088.387402  -5127.395490  \n",
       "7  -38185.312688  385325.822303 -352504.230820  -5363.721205  \n",
       "8      -0.000000       0.000000     886.436053    886.436053  "
      ]
     },
     "execution_count": 18,
     "metadata": {},
     "output_type": "execute_result"
    }
   ],
   "source": [
    "df.head(10)"
   ]
  },
  {
   "cell_type": "markdown",
   "id": "65debe4d-8879-45c5-b295-95e9a9bcd0b8",
   "metadata": {},
   "source": [
    "#### final P&L, i.e. (the total value Tot_Valt=2.00) = $886.44"
   ]
  },
  {
   "cell_type": "code",
   "execution_count": 8,
   "id": "2fbcb846-019b-4d7d-a71b-6125c33a12e9",
   "metadata": {},
   "outputs": [
    {
     "name": "stdout",
     "output_type": "stream",
     "text": [
      "\n",
      "Problem 3: PPoly Curve Check\n",
      "Result of ppolySum:\n",
      "Breakpoint: 0.00, Value: 1.50\n",
      "Breakpoint: 0.50, Value: 1.50\n",
      "Breakpoint: 1.00, Value: 2.50\n",
      "Breakpoint: 1.50, Value: 3.00\n",
      "Breakpoint: 2.00, Value: 2.50\n",
      "Breakpoint: 2.50, Value: 3.00\n",
      "Breakpoint: 3.00, Value: 2.00\n",
      "Breakpoint: 3.50, Value: 2.50\n"
     ]
    }
   ],
   "source": [
    "# Problem 3: PPoly Curve Check\n",
    "\n",
    "print(\"\\nProblem 3: PPoly Curve Check\")\n",
    "\n",
    "# Define two piecewise polynomial curves of order 0\n",
    "bkpoints1 = np.array([0.0, 1.0, 2.0, 3.0])\n",
    "values1 = np.array([1.0, 2.0, 1.5, 0.5])\n",
    "\n",
    "bkpoints2 = np.array([0.5, 1.5, 2.5, 3.5])\n",
    "values2 = np.array([0.5, 1.0, 1.5, 2.0])\n",
    "\n",
    "# Call qf.ppolySum function to add the curves\n",
    "order = 0 \n",
    "result = qf.ppolySum(bkpoints1, values1, bkpoints2, values2, order)\n",
    "\n",
    "# Extract breakpoints and values from the result\n",
    "result_bkpoints = result[:, 0]\n",
    "result_values = result[:, 1]\n",
    "\n",
    "print(\"Result of ppolySum:\")\n",
    "for i in range(len(result_bkpoints)):\n",
    "    print(f\"Breakpoint: {result_bkpoints[i]:.2f}, Value: {result_values[i]:.2f}\")\n",
    "\n",
    "# Create a sequence of x-values for evaluation (including breakpoints)\n",
    "x_eval = np.linspace(0.0, 3.5, 100)\n",
    "\n",
    "# Evaluate the original polynomials and their sum\n",
    "# FIXED: ppolyEval takes 5 arguments: bkpoints, values, polyorder, xvec, derivorder\n",
    "val1 = qf.ppolyEval(bkpoints1, values1, order, x_eval, 0)\n",
    "val2 = qf.ppolyEval(bkpoints2, values2, order, x_eval, 0)\n",
    "sum_val = qf.ppolyEval(result_bkpoints, result_values, order, x_eval, 0)\n",
    "\n",
    "# Also compute direct sum for verification\n",
    "direct_sum = val1 + val2"
   ]
  },
  {
   "cell_type": "code",
   "execution_count": 9,
   "id": "2690e7cd-75c7-4a3e-a340-ed8347acccee",
   "metadata": {},
   "outputs": [
    {
     "data": {
      "image/png": "[encoded data removed]",
      "text/plain": [
       "<Figure size 1200x800 with 1 Axes>"
      ]
     },
     "metadata": {},
     "output_type": "display_data"
    }
   ],
   "source": [
    "# Plot the original polynomials and their sum\n",
    "plt.figure(figsize=(12, 8))\n",
    "plt.plot(x_eval, val1, 'b-', label='Polynomial 1')\n",
    "plt.plot(x_eval, val2, 'g-', label='Polynomial 2')\n",
    "plt.plot(x_eval, sum_val, 'r-', label='Sum (from ppolySum)')\n",
    "plt.plot(x_eval, direct_sum, 'k--', label='Direct Sum (for verification)')\n",
    "\n",
    "# Add markers for breakpoints\n",
    "plt.scatter(bkpoints1, values1, color='blue', s=50)\n",
    "plt.scatter(bkpoints2, values2, color='green', s=50)\n",
    "plt.scatter(result_bkpoints, result_values, color='red', s=50)\n",
    "\n",
    "plt.xlabel('x')\n",
    "plt.ylabel('y')\n",
    "plt.title('Piecewise Polynomial Curves and Their Sum')\n",
    "plt.legend()\n",
    "plt.grid(True)\n",
    "plt.show()"
   ]
  },
  {
   "cell_type": "code",
   "execution_count": 10,
   "id": "3fef8953-8571-477e-ad86-10fd33fdf80f",
   "metadata": {},
   "outputs": [
    {
     "name": "stdout",
     "output_type": "stream",
     "text": [
      "\n",
      "Verification of the sum:\n",
      "Maximum difference between direct sum and ppolySum result: 0.0000000000\n",
      "VALIDATION: The sum was correctly computed!\n",
      "\n",
      "Evaluating at all breakpoints:\n",
      "At x=0.00: Poly1=1.00, Poly2=0.50, Sum=1.50, Direct=1.50, Diff=0.0000000000\n",
      "At x=0.50: Poly1=1.00, Poly2=0.50, Sum=1.50, Direct=1.50, Diff=0.0000000000\n",
      "At x=1.00: Poly1=2.00, Poly2=0.50, Sum=2.50, Direct=2.50, Diff=0.0000000000\n",
      "At x=1.50: Poly1=2.00, Poly2=1.00, Sum=3.00, Direct=3.00, Diff=0.0000000000\n",
      "At x=2.00: Poly1=1.50, Poly2=1.00, Sum=2.50, Direct=2.50, Diff=0.0000000000\n",
      "At x=2.50: Poly1=1.50, Poly2=1.50, Sum=3.00, Direct=3.00, Diff=0.0000000000\n",
      "At x=3.00: Poly1=0.50, Poly2=1.50, Sum=2.00, Direct=2.00, Diff=0.0000000000\n",
      "At x=3.50: Poly1=0.50, Poly2=2.00, Sum=2.50, Direct=2.50, Diff=0.0000000000\n"
     ]
    }
   ],
   "source": [
    "# sum calculation by comparing direct sum vs. ppolySum\n",
    "print(\"\\nVerification of the sum:\")\n",
    "# Calculate maximum difference\n",
    "max_diff = np.max(np.abs(sum_val - direct_sum))\n",
    "print(f\"Maximum difference between direct sum and ppolySum result: {max_diff:.10f}\")\n",
    "\n",
    "if max_diff < 1e-10:\n",
    "    print(\"VALIDATION: The sum was correctly computed!\")\n",
    "else:\n",
    "    print(\"WARNING: The sum may not be correctly computed!\")\n",
    "    \n",
    "# Check by evaluating at specific breakpoints\n",
    "print(\"\\nEvaluating at all breakpoints:\")\n",
    "all_bkpoints = np.sort(np.unique(np.concatenate((bkpoints1, bkpoints2))))\n",
    "for x in all_bkpoints:\n",
    "    # Create a single-element array for evaluation\n",
    "    x_array = np.array([x])\n",
    "    val1_at_x = qf.ppolyEval(bkpoints1, values1, order, x_array, 0)[0]\n",
    "    val2_at_x = qf.ppolyEval(bkpoints2, values2, order, x_array, 0)[0]\n",
    "    sum_at_x = qf.ppolyEval(result_bkpoints, result_values, order, x_array, 0)[0]\n",
    "    direct_at_x = val1_at_x + val2_at_x\n",
    "    print(f\"At x={x:.2f}: Poly1={val1_at_x:.2f}, Poly2={val2_at_x:.2f}, Sum={sum_at_x:.2f}, Direct={direct_at_x:.2f}, Diff={abs(sum_at_x-direct_at_x):.10f}\")"
   ]
  },
  {
   "cell_type": "code",
   "execution_count": null,
   "id": "447a2d65-e761-498d-a452-bdce5f450abc",
   "metadata": {},
   "outputs": [],
   "source": []
  },
  {
   "cell_type": "code",
   "execution_count": null,
   "id": "9f2255b8-0866-4b38-99f2-364455ff01b0",
   "metadata": {},
   "outputs": [],
   "source": []
  }
 ],
 "metadata": {
  "kernelspec": {
   "display_name": "Python 3 (ipykernel)",
   "language": "python",
   "name": "python3"
  },
  "language_info": {
   "codemirror_mode": {
    "name": "ipython",
    "version": 3
   },
   "file_extension": ".py",
   "mimetype": "text/x-python",
   "name": "python",
   "nbconvert_exporter": "python",
   "pygments_lexer": "ipython3",
   "version": "3.12.8"
  }
 },
 "nbformat": 4,
 "nbformat_minor": 5
}
