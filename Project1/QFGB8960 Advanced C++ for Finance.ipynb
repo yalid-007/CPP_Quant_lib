{
 "cells": [
  {
   "cell_type": "markdown",
   "id": "431f3433-79b3-4468-99a7-a8e1c771b141",
   "metadata": {
    "tags": []
   },
   "source": [
    "## QFGB8960 Advanced C++ for Finance"
   ]
  },
  {
   "cell_type": "code",
   "execution_count": 2,
   "id": "18bfdc25-3d7d-4508-bf2f-c798f544e650",
   "metadata": {},
   "outputs": [
    {
     "name": "stdout",
     "output_type": "stream",
     "text": [
      "qflib version: 0.1.0-debug\n",
      "pid: 12344\n"
     ]
    }
   ],
   "source": [
    "import qflib as qf\n",
    "import numpy as np\n",
    "import os\n",
    "\n",
    "print(\"qflib version: {0}\".format(qf.version()))\n",
    "print(\"pid: {0}\".format(os.getpid()))"
   ]
  },
  {
   "cell_type": "markdown",
   "id": "549d7f0d-3447-445d-94a3-7a2854576ecf",
   "metadata": {},
   "source": [
    "Question 1 Solutions\n",
    "\n",
    "1. Sizes of Data\n",
    "   (a) Boolean size: 8 bits\n",
    "   (b) Double size: 64 bits\n",
    "\n",
    "2. Integer Arithmetic\n",
    "   Output: -1 1\n",
    "\n",
    "3. Integers and Logicals\n",
    "   Output: 16\n",
    "\n",
    "4. Pre/Post Increment\n",
    "   Output: 1 0\n",
    "\n",
    "5. Short-Circuiting Logical Operations\n",
    "   Output: 0 0\n",
    "\n",
    "6. Operator Overloading\n",
    "   (b) % - Can be overloaded\n",
    "   (d) == - Can be overloaded\n",
    "\n",
    "7. Reference Modification\n",
    "   Output: 10\n",
    "\n",
    "8. Constructors and Destructors\n",
    "   1\n",
    "   3\n",
    "   4\n",
    "   2\n",
    "\n",
    "9. Lambda Function\n",
    "   Output: 0 0\n",
    "\n",
    "10. Template Functions\n",
    "   1 0\n",
    "   2 1\n",
    "   1.2 0\n"
   ]
  },
  {
   "cell_type": "code",
   "execution_count": 3,
   "id": "0fb5faa2-69f7-4f4c-9535-584e782ed8a0",
   "metadata": {},
   "outputs": [
    {
     "name": "stdout",
     "output_type": "stream",
     "text": [
      "[0. 2. 0. 6.]\n"
     ]
    }
   ],
   "source": [
    "p = [0, 2]\n",
    "q = [1, 0, 3]\n",
    "\n",
    "result = qf.polyProd(p, q)\n",
    "print(result)  # Expected output: [0, 2, 0, 6]"
   ]
  },
  {
   "cell_type": "code",
   "execution_count": 4,
   "id": "fa5424d7-a72e-48b4-936a-15db26bb71aa",
   "metadata": {},
   "outputs": [
    {
     "name": "stdout",
     "output_type": "stream",
     "text": [
      "[1.]\n",
      "[1. 1.]\n",
      "[1. 2. 1.]\n",
      "[1. 3. 3. 1.]\n",
      "[1. 4. 6. 4. 1.]\n",
      "[ 1.  5. 10. 10.  5.  1.]\n",
      "[ 1.  6. 15. 20. 15.  6.  1.]\n",
      "[ 1.  7. 21. 35. 35. 21.  7.  1.]\n"
     ]
    }
   ],
   "source": [
    "pascal = [np.array([1.]), np.array([1., 1.])]\n",
    "\n",
    "# Generate six more rows using qf.polyProd\n",
    "for i in range(6):\n",
    "    new_row = qf.polyProd(pascal[-1], [1., 1.])\n",
    "    pascal.append(new_row)\n",
    "\n",
    "# Print Pascal's Triangle\n",
    "for row in pascal:\n",
    "    print(row)"
   ]
  },
  {
   "cell_type": "code",
   "execution_count": null,
   "id": "49a6c7e5-96ac-4d40-b7bb-dcb841ff2bcf",
   "metadata": {},
   "outputs": [],
   "source": []
  },
  {
   "cell_type": "code",
   "execution_count": null,
   "id": "c58a90d0-12d7-4b7f-85b2-4d1827cda396",
   "metadata": {},
   "outputs": [],
   "source": []
  }
 ],
 "metadata": {
  "kernelspec": {
   "display_name": "Python 3 (ipykernel)",
   "language": "python",
   "name": "python3"
  },
  "language_info": {
   "codemirror_mode": {
    "name": "ipython",
    "version": 3
   },
   "file_extension": ".py",
   "mimetype": "text/x-python",
   "name": "python",
   "nbconvert_exporter": "python",
   "pygments_lexer": "ipython3",
   "version": "3.12.8"
  }
 },
 "nbformat": 4,
 "nbformat_minor": 5
}
